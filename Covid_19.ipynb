{
  "nbformat": 4,
  "nbformat_minor": 0,
  "metadata": {
    "colab": {
      "provenance": [],
      "authorship_tag": "ABX9TyM6H3qsD0xkT4XNg/0kLZ5Z",
      "include_colab_link": true
    },
    "kernelspec": {
      "name": "python3",
      "display_name": "Python 3"
    },
    "language_info": {
      "name": "python"
    }
  },
  "cells": [
    {
      "cell_type": "markdown",
      "metadata": {
        "id": "view-in-github",
        "colab_type": "text"
      },
      "source": [
        "<a href=\"https://colab.research.google.com/github/AymenMetallaoui/AymenMetallaoui/blob/main/Covid_19.ipynb\" target=\"_parent\"><img src=\"https://colab.research.google.com/assets/colab-badge.svg\" alt=\"Open In Colab\"/></a>"
      ]
    },
    {
      "cell_type": "code",
      "execution_count": 4,
      "metadata": {
        "id": "JTkxVCcYqQPX"
      },
      "outputs": [],
      "source": [
        "import tensorflow as tf\n",
        "from tensorflow.keras.preprocessing.image import ImageDataGenerator\n",
        "from tensorflow.keras.applications.vgg16 import VGG16\n",
        "from tensorflow.keras.applications import InceptionV3\n",
        "from tensorflow.keras.layers import Dense, Flatten\n",
        "from tensorflow.keras.models import Model\n",
        "from tensorflow.keras.optimizers import Adam\n",
        "from keras.models import Sequential\n",
        "from keras.layers import Conv2D, MaxPooling2D, Flatten, Dense\n",
        "from tensorflow.keras.layers import GlobalAveragePooling2D, Dropout\n",
        "\n",
        "import itertools\n",
        "\n",
        "import torch\n",
        "\n",
        "from sklearn.model_selection import train_test_split, StratifiedKFold\n",
        "from sklearn.metrics import accuracy_score, f1_score, precision_score, recall_score, confusion_matrix\n",
        "\n",
        "import os\n",
        "import numpy as np\n",
        "import pandas as pd\n",
        "import glob\n",
        "from PIL import Image\n",
        "import matplotlib.pyplot as plt\n",
        "import matplotlib.image as mpimg\n",
        "%matplotlib inline\n",
        "\n"
      ]
    },
    {
      "cell_type": "code",
      "source": [
        "from google.colab import drive\n",
        "drive.mount('/content/drive')"
      ],
      "metadata": {
        "id": "p_MNssrp4wfe",
        "colab": {
          "base_uri": "https://localhost:8080/"
        },
        "outputId": "2d009b39-2da1-47b3-8f05-5fbd92f01e0f"
      },
      "execution_count": 5,
      "outputs": [
        {
          "output_type": "stream",
          "name": "stdout",
          "text": [
            "Mounted at /content/drive\n"
          ]
        }
      ]
    },
    {
      "cell_type": "code",
      "source": [
        "# After executing the cell above, Drive\n",
        "# files will be present in \"/content/drive/My Drive\".\n",
        "#Second change your current folder to point working folder My Drive\n",
        "os.chdir(\"/content/drive/My Drive/\")\n",
        "os.listdir()"
      ],
      "metadata": {
        "id": "WTjJqxdI4xlN",
        "colab": {
          "base_uri": "https://localhost:8080/"
        },
        "outputId": "e2a44c7a-7ea5-4940-9554-5b547c366877"
      },
      "execution_count": 6,
      "outputs": [
        {
          "output_type": "execute_result",
          "data": {
            "text/plain": [
              "['Operating System Concepts (9th Ed) - Gagne, Silberschatz, and Galvin.pdf',\n",
              " 'school',\n",
              " 'screens',\n",
              " 'crib sheet COMP478.gdoc',\n",
              " 'Colab Notebooks',\n",
              " 'dataset',\n",
              " 'Untitled document.gdoc']"
            ]
          },
          "metadata": {},
          "execution_count": 6
        }
      ]
    },
    {
      "cell_type": "code",
      "source": [
        "# Use GPU when possible\n",
        "device = torch.device('cuda' if torch.cuda.is_available() else 'cpu')\n",
        "print(device)\n",
        "\n",
        "#directory dataset\n",
        "DATASET_DIR ='./dataset/dataset'\n",
        "\n",
        "\n"
      ],
      "metadata": {
        "id": "0ijUGVxh46Dk",
        "colab": {
          "base_uri": "https://localhost:8080/"
        },
        "outputId": "96d206c0-ccde-44b2-c9d0-9cd435f933e7"
      },
      "execution_count": 7,
      "outputs": [
        {
          "output_type": "stream",
          "name": "stdout",
          "text": [
            "cpu\n"
          ]
        }
      ]
    },
    {
      "cell_type": "code",
      "source": [
        "train_datagen = ImageDataGenerator(\n",
        "    rescale=1./255, \n",
        "    validation_split=0.2\n",
        ")\n",
        "\n",
        "train_generator = train_datagen.flow_from_directory(\n",
        "    '/content/drive/MyDrive/dataset/dataset/train',\n",
        "    target_size=(512, 512), # modify target size to 512x512\n",
        "    batch_size=4,\n",
        "    class_mode='binary',\n",
        "    subset='training'\n",
        ")\n",
        "\n",
        "validation_generator = train_datagen.flow_from_directory(\n",
        "    '/content/drive/MyDrive/dataset/dataset/train',\n",
        "    target_size=(512, 512), # modify target size to 512x512\n",
        "    batch_size=4,\n",
        "    class_mode='binary',\n",
        "    subset='validation'\n",
        ")\n"
      ],
      "metadata": {
        "colab": {
          "base_uri": "https://localhost:8080/"
        },
        "id": "WVtW2V9rk7WI",
        "outputId": "1031bc0c-be47-4b5d-ac4d-1043db146fd2"
      },
      "execution_count": 8,
      "outputs": [
        {
          "output_type": "stream",
          "name": "stdout",
          "text": [
            "Found 79 images belonging to 2 classes.\n",
            "Found 19 images belonging to 2 classes.\n"
          ]
        }
      ]
    },
    {
      "cell_type": "code",
      "source": [
        "\n",
        "\n",
        "# set the directory of the training data\n",
        "train_dir = '/content/drive/MyDrive/dataset/dataset/train'\n",
        "\n",
        "# list the class names\n",
        "classes = ['covid', 'normal']\n",
        "\n",
        "# loop over each class and display the first two images\n",
        "for class_name in classes:\n",
        "    class_path = os.path.join(train_dir, class_name)\n",
        "    image_names = os.listdir(class_path)[:2]  # get first two images in the folder\n",
        "\n",
        "    for image_name in image_names:\n",
        "        image_path = os.path.join(class_path, image_name)\n",
        "        image = Image.open(image_path)\n",
        "        image.show(title=class_name)\n"
      ],
      "metadata": {
        "id": "r3InYtzRnB1y"
      },
      "execution_count": null,
      "outputs": []
    },
    {
      "cell_type": "code",
      "source": [
        "\n",
        "model = Sequential()\n",
        "model.add(Conv2D(32, (3, 3), activation='relu', input_shape=(512, 512, 3)))\n",
        "model.add(MaxPooling2D((2, 2)))\n",
        "model.add(Conv2D(64, (3, 3), activation='relu'))\n",
        "model.add(MaxPooling2D((2, 2)))\n",
        "model.add(Conv2D(128, (3, 3), activation='relu'))\n",
        "model.add(MaxPooling2D((2, 2)))\n",
        "model.add(Flatten())\n",
        "model.add(Dense(128, activation='relu'))\n",
        "model.add(Dense(1, activation='sigmoid'))\n",
        "\n",
        "model.compile(loss='binary_crossentropy',\n",
        "              optimizer='adam',\n",
        "              metrics=['accuracy'])\n"
      ],
      "metadata": {
        "id": "BRm3ADvWnZay"
      },
      "execution_count": 10,
      "outputs": []
    },
    {
      "cell_type": "code",
      "source": [
        "history = model.fit(\n",
        "    train_generator,\n",
        "    validation_data=validation_generator,\n",
        "    epochs=4\n",
        ")\n",
        "\n",
        "# plot training/validation loss and accuracy\n",
        "epochs_range = range(1, 5)\n",
        "plt.figure(figsize=(12, 4))\n",
        "plt.subplot(1, 2, 1)\n",
        "plt.plot(epochs_range, history.history['loss'], label='Training Loss')\n",
        "plt.plot(epochs_range, history.history['val_loss'], label='Validation Loss')\n",
        "plt.legend(loc='upper right')\n",
        "plt.title('Training and Validation Loss')\n",
        "\n",
        "plt.subplot(1, 2, 2)\n",
        "plt.plot(epochs_range, history.history['accuracy'], label='Training Accuracy')\n",
        "plt.plot(epochs_range, history.history['val_accuracy'], label='Validation Accuracy')\n",
        "plt.legend(loc='lower right')\n",
        "plt.title('Training and Validation Accuracy')\n",
        "plt.show()\n"
      ],
      "metadata": {
        "id": "jsvjNRESrX_5"
      },
      "execution_count": null,
      "outputs": []
    },
    {
      "cell_type": "code",
      "source": [
        "# predict labels of validation set\n",
        "y_pred = model.predict(validation_generator)\n",
        "y_pred = (y_pred > 0.5).astype(int)\n",
        "\n",
        "# calculate and print confusion matrix\n",
        "cm = confusion_matrix(validation_generator.classes, y_pred)\n",
        "print(cm)\n",
        "\n",
        "# plot confusion matrix\n",
        "plt.imshow(cm, cmap=plt.cm.Blues)\n",
        "plt.title('Confusion matrix')\n",
        "plt.colorbar()\n",
        "tick_marks = np.arange(len(classes))\n",
        "plt.xticks(tick_marks, classes, rotation=45)\n",
        "plt.yticks(tick_marks, classes)\n",
        "thresh = cm.max() / 2.\n",
        "for i, j in itertools.product(range(cm.shape[0]), range(cm.shape[1])):\n",
        "    plt.text(j, i, cm[i, j],\n",
        "             horizontalalignment=\"center\",\n",
        "             color=\"white\" if cm[i, j] > thresh else \"black\")\n",
        "plt.tight_layout()\n",
        "plt.ylabel('True label')\n",
        "plt.xlabel('Predicted label')\n",
        "plt.show()\n",
        "\n",
        "# calculate accuracy, precision, recall, and F-score\n",
        "tn, fp, fn, tp = cm.ravel()\n",
        "accuracy = (tp + tn) / (tp + tn + fp + fn)\n",
        "precision = tp / (tp + fp)\n",
        "recall = tp / (tp + fn)\n",
        "f_score = 2 * (precision * recall) / (precision + recall)\n",
        "\n",
        "# print accuracy, precision, recall, and F-score\n",
        "print(\"Accuracy: {:.2f}%\".format(accuracy * 100))\n",
        "print(\"Precision: {:.2f}%\".format(precision * 100))\n",
        "print(\"Recall: {:.2f}%\".format(recall * 100))\n",
        "print(\"F-score: {:.2f}%\".format(f_score * 100))"
      ],
      "metadata": {
        "id": "khjgyoGYpiRD"
      },
      "execution_count": null,
      "outputs": []
    },
    {
      "cell_type": "code",
      "source": [
        "# load pre-trained VGG16 model\n",
        "vgg16_model = VGG16(weights='imagenet', include_top=False, input_shape=(512, 512, 3))\n",
        "\n",
        "# freeze all the layers in the pre-trained model\n",
        "for layer in vgg16_model.layers:\n",
        "    layer.trainable = False\n",
        "\n",
        "# add custom classification layers on top of the pre-trained model\n",
        "model = Sequential()\n",
        "model.add(vgg16_model)\n",
        "model.add(GlobalAveragePooling2D())\n",
        "model.add(Dense(128, activation='relu'))\n",
        "model.add(Dropout(0.5))\n",
        "model.add(Dense(1, activation='sigmoid'))\n",
        "\n",
        "# compile the model\n",
        "model.compile(optimizer='adam', loss='binary_crossentropy', metrics=['accuracy'])\n",
        "\n",
        "# print model summary\n",
        "print(model.summary())\n"
      ],
      "metadata": {
        "id": "yPxxRhGQzxvK"
      },
      "execution_count": null,
      "outputs": []
    },
    {
      "cell_type": "code",
      "source": [
        "# train the model\n",
        "history = model.fit(train_generator, epochs=5, validation_data=validation_generator)\n",
        "\n",
        "# plot the training and validation accuracy and loss\n",
        "plt.plot(history.history['accuracy'])\n",
        "plt.plot(history.history['val_accuracy'])\n",
        "plt.title('Model accuracy')\n",
        "plt.ylabel('Accuracy')\n",
        "plt.xlabel('Epoch')\n",
        "plt.legend(['Train', 'Validation'], loc='upper left')\n",
        "plt.show()\n",
        "\n",
        "plt.plot(history.history['loss'])\n",
        "plt.plot(history.history['val_loss'])\n",
        "plt.title('Model loss')\n",
        "plt.ylabel('Loss')\n",
        "plt.xlabel('Epoch')\n",
        "plt.legend(['Train', 'Validation'], loc='upper left')\n",
        "plt.show()\n",
        "\n",
        "# predict labels of validation set\n",
        "y_pred = model.predict(validation_generator)\n",
        "y_pred = (y_pred > 0.5).astype(int)\n",
        "\n",
        "# calculate and print confusion matrix\n",
        "cm = confusion_matrix(validation_generator.classes, y_pred)\n",
        "print(cm)\n",
        "\n",
        "# calculate accuracy, F-score, recall, and precision\n",
        "accuracy = accuracy_score(validation_generator.classes, y_pred)\n",
        "fscore = f1_score(validation_generator.classes, y_pred)\n",
        "recall = recall_score(validation_generator.classes, y_pred)\n",
        "precision = precision_score(validation_generator.classes, y_pred)\n",
        "\n",
        "print('Accuracy:', accuracy)\n",
        "print('F-score:', fscore)\n",
        "print('Recall:', recall)\n",
        "print('Precision:', precision)"
      ],
      "metadata": {
        "id": "2T2qqnO5GdZg"
      },
      "execution_count": null,
      "outputs": []
    },
    {
      "cell_type": "code",
      "source": [
        "# plot confusion matrix\n",
        "plt.imshow(cm, cmap=plt.cm.Blues)\n",
        "plt.title('Confusion matrix')\n",
        "plt.colorbar()\n",
        "tick_marks = np.arange(len(classes))\n",
        "plt.xticks(tick_marks, classes, rotation=45)\n",
        "plt.yticks(tick_marks, classes)\n",
        "thresh = cm.max() / 2.\n",
        "for i, j in itertools.product(range(cm.shape[0]), range(cm.shape[1])):\n",
        "    plt.text(j, i, cm[i, j],\n",
        "             horizontalalignment=\"center\",\n",
        "             color=\"white\" if cm[i, j] > thresh else \"black\")\n",
        "plt.tight_layout()\n",
        "plt.ylabel('True label')\n",
        "plt.xlabel('Predicted label')\n",
        "plt.show()"
      ],
      "metadata": {
        "id": "BriJaUj1R1tn"
      },
      "execution_count": null,
      "outputs": []
    },
    {
      "cell_type": "code",
      "source": [
        "# create the model\n",
        "base_model = InceptionV3(input_shape=(512, 512, 3), include_top=False, weights='imagenet')\n",
        "x = GlobalAveragePooling2D()(base_model.output)\n",
        "x = Dropout(0.5)(x)\n",
        "x = Dense(1, activation='sigmoid')(x)\n",
        "model = Model(inputs=base_model.input, outputs=x)\n",
        "\n",
        "# freeze all layers in the base model\n",
        "for layer in base_model.layers:\n",
        "    layer.trainable = False\n",
        "\n",
        "# compile the model\n",
        "model.compile(optimizer='adam', loss='binary_crossentropy', metrics=['accuracy'])\n"
      ],
      "metadata": {
        "id": "P19H09CrVFg9"
      },
      "execution_count": null,
      "outputs": []
    },
    {
      "cell_type": "code",
      "source": [
        "# train the model\n",
        "history = model.fit(train_generator, epochs=5, validation_data=validation_generator)\n",
        "\n",
        "# plot the training and validation accuracy and loss\n",
        "plt.plot(history.history['accuracy'])\n",
        "plt.plot(history.history['val_accuracy'])\n",
        "plt.title('Model accuracy')\n",
        "plt.ylabel('Accuracy')\n",
        "plt.xlabel('Epoch')\n",
        "plt.legend(['Train', 'Validation'], loc='upper left')\n",
        "plt.show()\n",
        "\n",
        "plt.plot(history.history['loss'])\n",
        "plt.plot(history.history['val_loss'])\n",
        "plt.title('Model loss')\n",
        "plt.ylabel('Loss')\n",
        "plt.xlabel('Epoch')\n",
        "plt.legend(['Train', 'Validation'], loc='upper left')\n",
        "plt.show()\n",
        "\n",
        "# predict labels of validation set\n",
        "y_pred = model.predict(validation_generator)\n",
        "y_pred = (y_pred > 0.5).astype(int)\n",
        "\n",
        "# calculate and print confusion matrix\n",
        "cm = confusion_matrix(validation_generator.classes, y_pred)\n",
        "print(cm)\n",
        "\n",
        "# calculate accuracy, F-score, recall, and precision\n",
        "accuracy = accuracy_score(validation_generator.classes, y_pred)\n",
        "fscore = f1_score(validation_generator.classes, y_pred)\n",
        "recall = recall_score(validation_generator.classes, y_pred)\n",
        "precision = precision_score(validation_generator.classes, y_pred)\n",
        "\n",
        "print('Accuracy:', accuracy)\n",
        "print('F-score:', fscore)\n",
        "print('Recall:', recall)\n",
        "print('Precision:', precision)\n"
      ],
      "metadata": {
        "id": "36f3ZNC-Vc-B"
      },
      "execution_count": null,
      "outputs": []
    },
    {
      "cell_type": "code",
      "source": [
        "# plot confusion matrix\n",
        "plt.imshow(cm, cmap=plt.cm.Blues)\n",
        "plt.title('Confusion matrix')\n",
        "plt.colorbar()\n",
        "tick_marks = np.arange(len(classes))\n",
        "plt.xticks(tick_marks, classes, rotation=45)\n",
        "plt.yticks(tick_marks, classes)\n",
        "thresh = cm.max() / 2.\n",
        "for i, j in itertools.product(range(cm.shape[0]), range(cm.shape[1])):\n",
        "    plt.text(j, i, cm[i, j],\n",
        "             horizontalalignment=\"center\",\n",
        "             color=\"white\" if cm[i, j] > thresh else \"black\")\n",
        "plt.tight_layout()\n",
        "plt.ylabel('True label')\n",
        "plt.xlabel('Predicted label')\n",
        "plt.show()"
      ],
      "metadata": {
        "id": "CO9KlagTVqaj"
      },
      "execution_count": null,
      "outputs": []
    }
  ]
}